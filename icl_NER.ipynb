{
 "cells": [
  {
   "cell_type": "code",
   "execution_count": 5,
   "metadata": {},
   "outputs": [],
   "source": [
    "import datasets\n",
    "\n",
    "class MasakhaNERDataset:\n",
    "    def __init__(self,sample_size):\n",
    "        self.all_data = {}\n",
    "        self.train_data = {}\n",
    "        self.valid_data = {}\n",
    "        self.test_data = {}\n",
    "        self.sample_size=sample_size\n",
    "        self.LANGS = [\n",
    "            'bam', 'bbj', 'ewe', 'fon', 'hau', 'ibo', 'kin', 'lug', 'luo', 'mos',\n",
    "            'nya', 'pcm', 'sna', 'swa', 'tsn', 'twi', 'wol', 'xho', 'yor', 'zul'\n",
    "        ]\n",
    "        self.LABELS = [\"O\", \"B-PER\", \"I-PER\", \"B-ORG\", \"I-ORG\", \"B-LOC\", \"I-LOC\", \"B-DATE\", \"I-DATE\"]\n",
    "        self.load_data()\n",
    "        \n",
    "    def convert_ner_tags(self, ner_tags, to_labels=True):\n",
    "        # Define the mapping from integer tags to string labels\n",
    "        tag_to_label = {\n",
    "            0: \"O\",\n",
    "            1: \"B-PER\",\n",
    "            2: \"I-PER\",\n",
    "            3: \"B-ORG\",\n",
    "            4: \"I-ORG\",\n",
    "            5: \"B-LOC\",\n",
    "            6: \"I-LOC\",\n",
    "            7: \"B-DATE\",\n",
    "            8: \"I-DATE\"\n",
    "        }\n",
    "    \n",
    "        # Create the reverse mapping from string labels to integer tags\n",
    "        label_to_tag = {label: tag for tag, label in tag_to_label.items()}\n",
    "    \n",
    "        if to_labels:\n",
    "        # Convert integer tags to string labels\n",
    "            return [tag_to_label[tag] for tag in ner_tags]\n",
    "        else:\n",
    "            # Convert string labels to integer tags\n",
    "            return [label_to_tag[label] for label in ner_tags]\n",
    "\n",
    "    def load_data(self):\n",
    "            for lang in self.LANGS:\n",
    "                dataset = datasets.load_dataset('masakhane/masakhaner2', lang)\n",
    "                # Load samples based on sample_size argument\n",
    "                if self.sample_size>0:\n",
    "                    self.train_data[lang] = dataset['train'].select(range(min(self.sample_size, len(dataset['train']))))\n",
    "                    self.valid_data[lang] = dataset['validation'].select(range(min(self.sample_size, len(dataset['validation']))))\n",
    "                    self.test_data[lang] = dataset['test'].select(range(min(self.sample_size, len(dataset['test']))))\n",
    "                else:\n",
    "                    self.train_data[lang] = dataset['train']\n",
    "                    self.valid_data[lang] = dataset['validation']\n",
    "                    self.test_data[lang] = dataset['test']\n",
    "            self.all_data = dataset\n",
    "            total_train_samples = sum([len(data) for data in self.train_data.values()])\n",
    "            total_valid_samples = sum([len(data) for data in self.valid_data.values()])\n",
    "            total_test_samples = sum([len(data) for data in self.test_data.values()])\n",
    "            print(f\"Total training samples: {total_train_samples}\")\n",
    "            print(f\"Total validation samples: {total_valid_samples}\")\n",
    "            print(f\"Total test samples: {total_test_samples}\")\n"
   ]
  },
  {
   "cell_type": "code",
   "execution_count": 6,
   "metadata": {},
   "outputs": [
    {
     "name": "stdout",
     "output_type": "stream",
     "text": [
      "Total training samples: 106964\n",
      "Total validation samples: 15284\n",
      "Total test samples: 30538\n"
     ]
    }
   ],
   "source": [
    "from pprint import pprint\n",
    "# Initialize the dataset for Yorùbá\n",
    "dataset = MasakhaNERDataset(sample_size=0)\n",
    "\n",
    "# Access the training data\n",
    "train_data = dataset.train_data\n"
   ]
  },
  {
   "cell_type": "code",
   "execution_count": 15,
   "metadata": {},
   "outputs": [
    {
     "name": "stdout",
     "output_type": "stream",
     "text": [
      "4.44.2\n"
     ]
    }
   ],
   "source": [
    "import transformers\n",
    "print(transformers.__version__)"
   ]
  },
  {
   "cell_type": "code",
   "execution_count": 18,
   "metadata": {},
   "outputs": [
    {
     "name": "stdout",
     "output_type": "stream",
     "text": [
      "Converted to labels: ['O', 'O', 'O', 'O', 'B-PER', 'I-PER', 'O', 'O', 'O', 'O', 'O', 'O', 'O', 'O', 'O', 'O', 'O', 'O', 'O', 'O', 'O', 'O', 'O', 'O', 'O', 'O', 'O', 'O', 'O', 'O', 'O', 'O', 'O', 'O', 'O', 'O', 'O']\n",
      "Converted back to tags: [0, 0, 0, 0, 1, 2, 0, 0, 0, 0, 0, 0, 0, 0, 0, 0, 0, 0, 0, 0, 0, 0, 0, 0, 0, 0, 0, 0, 0, 0, 0, 0, 0, 0, 0, 0, 0]\n"
     ]
    }
   ],
   "source": [
    "train_data_ner_tags = [0, 0, 0, 0, 1, 2, 0, 0, 0, 0, 0, 0, 0, 0, 0, 0, 0, 0, 0, 0, 0, 0, 0, 0, 0, 0, 0, 0, 0, 0, 0, 0, 0, 0, 0, 0, 0]\n",
    "converted_labels = dataset.convert_ner_tags(train_data_ner_tags, to_labels=True)\n",
    "print(\"Converted to labels:\", converted_labels)\n",
    "\n",
    "# Convert back to integer tags\n",
    "converted_tags = dataset.convert_ner_tags(converted_labels, to_labels=False)\n",
    "print(\"Converted back to tags:\", converted_tags)"
   ]
  },
  {
   "cell_type": "code",
   "execution_count": 6,
   "metadata": {},
   "outputs": [
    {
     "data": {
      "text/plain": [
       "['O', 'O', 'O', 'O', 'O', 'O', 'O', 'O', 'O', 'O']"
      ]
     },
     "execution_count": 6,
     "metadata": {},
     "output_type": "execute_result"
    }
   ],
   "source": [
    "def process_model_output(output, num_tokens):\n",
    "    pred_labels = output.strip().split()\n",
    "    # Handle mismatch in the number of tokens and predicted labels\n",
    "    if len(pred_labels) < num_tokens:\n",
    "        # Pad with 'O'\n",
    "        pred_labels.extend(['O'] * (num_tokens - len(pred_labels)))\n",
    "    elif len(pred_labels) > num_tokens:\n",
    "        # Truncate to match the number of tokens\n",
    "        pred_labels = pred_labels[:num_tokens]\n",
    "    return pred_labels\n",
    "process_model_output(\"O\",10)"
   ]
  }
 ],
 "metadata": {
  "kernelspec": {
   "display_name": "miners",
   "language": "python",
   "name": "python3"
  },
  "language_info": {
   "codemirror_mode": {
    "name": "ipython",
    "version": 3
   },
   "file_extension": ".py",
   "mimetype": "text/x-python",
   "name": "python",
   "nbconvert_exporter": "python",
   "pygments_lexer": "ipython3",
   "version": "3.12.2"
  }
 },
 "nbformat": 4,
 "nbformat_minor": 2
}
