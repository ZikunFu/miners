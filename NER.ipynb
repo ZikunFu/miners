{
 "cells": [
  {
   "cell_type": "code",
   "execution_count": 10,
   "metadata": {},
   "outputs": [],
   "source": [
    "import datasets\n",
    "\n",
    "class MasakhaNERDataset:\n",
    "    def __init__(self,sample_size):\n",
    "        self.all_data = {}\n",
    "        self.train_data = {}\n",
    "        self.valid_data = {}\n",
    "        self.test_data = {}\n",
    "        self.sample_size=sample_size\n",
    "        self.LANGS = [\n",
    "            'bam', 'bbj', 'ewe', 'fon', 'hau', 'ibo', 'kin', 'lug', 'luo', 'mos',\n",
    "            'nya', 'pcm', 'sna', 'swa', 'tsn', 'twi', 'wol', 'xho', 'yor', 'zul'\n",
    "        ]\n",
    "        self.LABELS = [\"O\", \"B-PER\", \"I-PER\", \"B-ORG\", \"I-ORG\", \"B-LOC\", \"I-LOC\", \"B-DATE\", \"I-DATE\"]\n",
    "        self.load_data()\n",
    "        \n",
    "    def convert_ner_tags(self, ner_tags, to_labels=True):\n",
    "        # Define the mapping from integer tags to string labels\n",
    "        tag_to_label = {\n",
    "            0: \"O\",\n",
    "            1: \"B-PER\",\n",
    "            2: \"I-PER\",\n",
    "            3: \"B-ORG\",\n",
    "            4: \"I-ORG\",\n",
    "            5: \"B-LOC\",\n",
    "            6: \"I-LOC\",\n",
    "            7: \"B-DATE\",\n",
    "            8: \"I-DATE\"\n",
    "        }\n",
    "    \n",
    "        # Create the reverse mapping from string labels to integer tags\n",
    "        label_to_tag = {label: tag for tag, label in tag_to_label.items()}\n",
    "    \n",
    "        if to_labels:\n",
    "        # Convert integer tags to string labels\n",
    "            return [tag_to_label[tag] for tag in ner_tags]\n",
    "        else:\n",
    "            # Convert string labels to integer tags\n",
    "            return [label_to_tag[label] for label in ner_tags]\n",
    "\n",
    "    def load_data(self):\n",
    "            for lang in self.LANGS:\n",
    "                dataset = datasets.load_dataset('masakhane/masakhaner2', lang)\n",
    "                # Load samples based on sample_size argument\n",
    "                if self.sample_size>0:\n",
    "                    self.train_data[lang] = dataset['train'].select(range(min(self.sample_size, len(dataset['train']))))\n",
    "                    self.valid_data[lang] = dataset['validation'].select(range(min(self.sample_size, len(dataset['validation']))))\n",
    "                    self.test_data[lang] = dataset['test'].select(range(min(self.sample_size, len(dataset['test']))))\n",
    "                else:\n",
    "                    self.train_data[lang] = dataset['train']\n",
    "                    self.valid_data[lang] = dataset['validation']\n",
    "                    self.test_data[lang] = dataset['test']\n",
    "            self.all_data = dataset\n",
    "            print(f\"Total training samples: {len(self.train_data)}\")\n",
    "            print(f\"Total validation samples: {len(self.valid_data)}\")\n",
    "            print(f\"Total test samples: {len(self.test_data)}\")\n"
   ]
  },
  {
   "cell_type": "code",
   "execution_count": 12,
   "metadata": {},
   "outputs": [
    {
     "name": "stdout",
     "output_type": "stream",
     "text": [
      "Total training samples: 20\n",
      "Total validation samples: 20\n",
      "Total test samples: 20\n",
      "Processing language: bam\n"
     ]
    },
    {
     "ename": "TypeError",
     "evalue": "string indices must be integers, not 'str'",
     "output_type": "error",
     "traceback": [
      "\u001b[0;31m---------------------------------------------------------------------------\u001b[0m",
      "\u001b[0;31mTypeError\u001b[0m                                 Traceback (most recent call last)",
      "Cell \u001b[0;32mIn[12], line 15\u001b[0m\n\u001b[1;32m     12\u001b[0m train_data \u001b[38;5;241m=\u001b[39m dataset\u001b[38;5;241m.\u001b[39mtrain_data\n\u001b[1;32m     13\u001b[0m test_data \u001b[38;5;241m=\u001b[39m dataset\u001b[38;5;241m.\u001b[39mtest_data\n\u001b[0;32m---> 15\u001b[0m train_tokens \u001b[38;5;241m=\u001b[39m [\u001b[43msample\u001b[49m\u001b[43m[\u001b[49m\u001b[43mlang\u001b[49m\u001b[43m]\u001b[49m[\u001b[38;5;124m'\u001b[39m\u001b[38;5;124mtokens\u001b[39m\u001b[38;5;124m'\u001b[39m] \u001b[38;5;28;01mfor\u001b[39;00m sample \u001b[38;5;129;01min\u001b[39;00m train_data]\n",
      "\u001b[0;31mTypeError\u001b[0m: string indices must be integers, not 'str'"
     ]
    }
   ],
   "source": [
    "from pprint import pprint\n",
    "# Initialize the dataset for Yorùbá\n",
    "dataset = MasakhaNERDataset(sample_size=2)\n",
    "\n",
    "# Access the training data\n",
    "train_data = dataset.train_data\n",
    "\n",
    "for lang in dataset.LANGS:\n",
    "        print(f\"Processing language: {lang}\")\n",
    "\n",
    "        # Get train and test data\n",
    "        train_data = dataset.train_data\n",
    "        test_data = dataset.test_data\n",
    "\n",
    "        train_tokens = [sample[lang]['tokens'] for sample in train_data]\n"
   ]
  },
  {
   "cell_type": "code",
   "execution_count": 15,
   "metadata": {},
   "outputs": [
    {
     "name": "stdout",
     "output_type": "stream",
     "text": [
      "4.44.2\n"
     ]
    }
   ],
   "source": [
    "import transformers\n",
    "print(transformers.__version__)"
   ]
  },
  {
   "cell_type": "code",
   "execution_count": 18,
   "metadata": {},
   "outputs": [
    {
     "name": "stdout",
     "output_type": "stream",
     "text": [
      "Converted to labels: ['O', 'O', 'O', 'O', 'B-PER', 'I-PER', 'O', 'O', 'O', 'O', 'O', 'O', 'O', 'O', 'O', 'O', 'O', 'O', 'O', 'O', 'O', 'O', 'O', 'O', 'O', 'O', 'O', 'O', 'O', 'O', 'O', 'O', 'O', 'O', 'O', 'O', 'O']\n",
      "Converted back to tags: [0, 0, 0, 0, 1, 2, 0, 0, 0, 0, 0, 0, 0, 0, 0, 0, 0, 0, 0, 0, 0, 0, 0, 0, 0, 0, 0, 0, 0, 0, 0, 0, 0, 0, 0, 0, 0]\n"
     ]
    }
   ],
   "source": [
    "train_data_ner_tags = [0, 0, 0, 0, 1, 2, 0, 0, 0, 0, 0, 0, 0, 0, 0, 0, 0, 0, 0, 0, 0, 0, 0, 0, 0, 0, 0, 0, 0, 0, 0, 0, 0, 0, 0, 0, 0]\n",
    "converted_labels = dataset.convert_ner_tags(train_data_ner_tags, to_labels=True)\n",
    "print(\"Converted to labels:\", converted_labels)\n",
    "\n",
    "# Convert back to integer tags\n",
    "converted_tags = dataset.convert_ner_tags(converted_labels, to_labels=False)\n",
    "print(\"Converted back to tags:\", converted_tags)"
   ]
  },
  {
   "cell_type": "code",
   "execution_count": 6,
   "metadata": {},
   "outputs": [
    {
     "data": {
      "text/plain": [
       "['O', 'O', 'O', 'O', 'O', 'O', 'O', 'O', 'O', 'O']"
      ]
     },
     "execution_count": 6,
     "metadata": {},
     "output_type": "execute_result"
    }
   ],
   "source": [
    "def process_model_output(output, num_tokens):\n",
    "    pred_labels = output.strip().split()\n",
    "    # Handle mismatch in the number of tokens and predicted labels\n",
    "    if len(pred_labels) < num_tokens:\n",
    "        # Pad with 'O'\n",
    "        pred_labels.extend(['O'] * (num_tokens - len(pred_labels)))\n",
    "    elif len(pred_labels) > num_tokens:\n",
    "        # Truncate to match the number of tokens\n",
    "        pred_labels = pred_labels[:num_tokens]\n",
    "    return pred_labels\n",
    "process_model_output(\"O\",10)"
   ]
  }
 ],
 "metadata": {
  "kernelspec": {
   "display_name": "miners",
   "language": "python",
   "name": "python3"
  },
  "language_info": {
   "codemirror_mode": {
    "name": "ipython",
    "version": 3
   },
   "file_extension": ".py",
   "mimetype": "text/x-python",
   "name": "python",
   "nbconvert_exporter": "python",
   "pygments_lexer": "ipython3",
   "version": "3.12.2"
  }
 },
 "nbformat": 4,
 "nbformat_minor": 2
}
