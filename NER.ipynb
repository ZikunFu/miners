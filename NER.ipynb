{
 "cells": [
  {
   "cell_type": "code",
   "execution_count": 13,
   "metadata": {},
   "outputs": [],
   "source": [
    "from datasets import load_dataset\n",
    "\n",
    "class MasakhaNERDataset:\n",
    "    def __init__(self, prompt=\"\", src_lang='yor'):\n",
    "        self.all_data = {}\n",
    "        self.train_data = {}\n",
    "        self.valid_data = {}\n",
    "        self.test_data = {}\n",
    "        self.prompt = prompt\n",
    "        self.LANGS = [\n",
    "            'bam', 'bbj', 'ewe', 'fon', 'hau', 'ibo', 'kin', 'lug', 'luo', 'mos',\n",
    "            'nya', 'pcm', 'sna', 'swa', 'tsn', 'twi', 'wol', 'xho', 'yor', 'zul'\n",
    "        ]\n",
    "        self.LABELS = [\"O\", \"B-PER\", \"I-PER\", \"B-ORG\", \"I-ORG\", \"B-LOC\", \"I-LOC\", \"B-DATE\", \"I-DATE\"]\n",
    "        self.src_lang = src_lang\n",
    "        self.load_data()\n",
    "        \n",
    "    def convert_ner_tags(self, ner_tags, to_labels=True):\n",
    "        # Define the mapping from integer tags to string labels\n",
    "        tag_to_label = {\n",
    "            0: \"O\",\n",
    "            1: \"B-PER\",\n",
    "            2: \"I-PER\",\n",
    "            3: \"B-ORG\",\n",
    "            4: \"I-ORG\",\n",
    "            5: \"B-LOC\",\n",
    "            6: \"I-LOC\",\n",
    "            7: \"B-DATE\",\n",
    "            8: \"I-DATE\"\n",
    "        }\n",
    "    \n",
    "        # Create the reverse mapping from string labels to integer tags\n",
    "        label_to_tag = {label: tag for tag, label in tag_to_label.items()}\n",
    "    \n",
    "        if to_labels:\n",
    "        # Convert integer tags to string labels\n",
    "            return [tag_to_label[tag] for tag in ner_tags]\n",
    "        else:\n",
    "            # Convert string labels to integer tags\n",
    "            return [label_to_tag[label] for label in ner_tags]\n",
    "\n",
    "    def load_data(self):\n",
    "        if self.src_lang not in self.LANGS:\n",
    "            raise ValueError(f\"Language '{self.src_lang}' is not supported.\")\n",
    "        \n",
    "        dataset = load_dataset('masakhane/masakhaner2', self.src_lang)\n",
    "        self.train_data = dataset['train']\n",
    "        self.valid_data = dataset['validation']\n",
    "        self.test_data = dataset['test']\n",
    "        self.all_data = dataset\n",
    "\n",
    "        print(f\"Data loaded for language: {self.src_lang}\")\n",
    "        print(f\"Training samples: {len(self.train_data)}\")\n",
    "        print(f\"Validation samples: {len(self.valid_data)}\")\n",
    "        print(f\"Test samples: {len(self.test_data)}\")"
   ]
  },
  {
   "cell_type": "code",
   "execution_count": 14,
   "metadata": {},
   "outputs": [
    {
     "name": "stdout",
     "output_type": "stream",
     "text": [
      "Data loaded for language: yor\n",
      "Training samples: 6876\n",
      "Validation samples: 983\n",
      "Test samples: 1964\n",
      "[0, 0, 0, 0, 1, 2, 0, 0, 0, 0, 0, 0, 0, 0, 0, 0, 0, 0, 0, 0, 0, 0, 0, 0, 0, 0, 0, 0, 0, 0, 0, 0, 0, 0, 0, 0, 0]\n"
     ]
    }
   ],
   "source": [
    "from pprint import pprint\n",
    "# Initialize the dataset for Yorùbá\n",
    "dataset = MasakhaNERDataset(src_lang='yor')\n",
    "\n",
    "# Access the training data\n",
    "train_data = dataset.train_data\n",
    "\n",
    "# Print the first training example\n",
    "print(train_data[0][\"ner_tags\"])\n"
   ]
  },
  {
   "cell_type": "code",
   "execution_count": 15,
   "metadata": {},
   "outputs": [
    {
     "name": "stdout",
     "output_type": "stream",
     "text": [
      "4.44.2\n"
     ]
    }
   ],
   "source": [
    "import transformers\n",
    "print(transformers.__version__)"
   ]
  },
  {
   "cell_type": "code",
   "execution_count": 18,
   "metadata": {},
   "outputs": [
    {
     "name": "stdout",
     "output_type": "stream",
     "text": [
      "Converted to labels: ['O', 'O', 'O', 'O', 'B-PER', 'I-PER', 'O', 'O', 'O', 'O', 'O', 'O', 'O', 'O', 'O', 'O', 'O', 'O', 'O', 'O', 'O', 'O', 'O', 'O', 'O', 'O', 'O', 'O', 'O', 'O', 'O', 'O', 'O', 'O', 'O', 'O', 'O']\n",
      "Converted back to tags: [0, 0, 0, 0, 1, 2, 0, 0, 0, 0, 0, 0, 0, 0, 0, 0, 0, 0, 0, 0, 0, 0, 0, 0, 0, 0, 0, 0, 0, 0, 0, 0, 0, 0, 0, 0, 0]\n"
     ]
    }
   ],
   "source": [
    "train_data_ner_tags = [0, 0, 0, 0, 1, 2, 0, 0, 0, 0, 0, 0, 0, 0, 0, 0, 0, 0, 0, 0, 0, 0, 0, 0, 0, 0, 0, 0, 0, 0, 0, 0, 0, 0, 0, 0, 0]\n",
    "converted_labels = dataset.convert_ner_tags(train_data_ner_tags, to_labels=True)\n",
    "print(\"Converted to labels:\", converted_labels)\n",
    "\n",
    "# Convert back to integer tags\n",
    "converted_tags = dataset.convert_ner_tags(converted_labels, to_labels=False)\n",
    "print(\"Converted back to tags:\", converted_tags)"
   ]
  }
 ],
 "metadata": {
  "kernelspec": {
   "display_name": "miners",
   "language": "python",
   "name": "python3"
  },
  "language_info": {
   "codemirror_mode": {
    "name": "ipython",
    "version": 3
   },
   "file_extension": ".py",
   "mimetype": "text/x-python",
   "name": "python",
   "nbconvert_exporter": "python",
   "pygments_lexer": "ipython3",
   "version": "3.9.19"
  }
 },
 "nbformat": 4,
 "nbformat_minor": 2
}
